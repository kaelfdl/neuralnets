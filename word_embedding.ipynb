{
 "cells": [
  {
   "cell_type": "markdown",
   "metadata": {},
   "source": [
    "# Word Embedding in PyTorch"
   ]
  },
  {
   "cell_type": "markdown",
   "metadata": {},
   "source": [
    "## Import the modules"
   ]
  },
  {
   "cell_type": "code",
   "execution_count": 56,
   "metadata": {},
   "outputs": [],
   "source": [
    "import torch\n",
    "import torch.nn as nn\n",
    "\n",
    "from torch.optim import Adam\n",
    "from torch.distributions.uniform import Uniform\n",
    "from torch.utils.data import TensorDataset, DataLoader\n",
    "\n",
    "import pandas as pd\n",
    "import matplotlib.pyplot as plt\n",
    "import seaborn as sns"
   ]
  },
  {
   "cell_type": "markdown",
   "metadata": {},
   "source": [
    "## Create the datasets"
   ]
  },
  {
   "cell_type": "code",
   "execution_count": 57,
   "metadata": {},
   "outputs": [],
   "source": [
    "inputs = torch.tensor([[1., 0., 0., 0.,], # one-hot encoding for Lewis\n",
    "                       [0., 1., 0., 0.,], # ... is\n",
    "                       [0., 0., 1., 0.,], # ... fast\n",
    "                       [0., 0., 0., 1.,]]) # ... Lando\n",
    "\n",
    "labels = torch.tensor([[0., 1., 0., 0.,], # \"Lewis\" is followed by \"is\"\n",
    "                       [0., 0., 1., 0.,], # \"is\" is followed by \"fast\"\n",
    "                       [0., 0., 0., 1.,], # \"great\" is not followed by anything but let's pretend that it is followed by \"is\"\n",
    "                       [0., 1., 0., 0.,]]) # \"Lando\", like \"Lewis\", is followed by \"is\"\n"
   ]
  },
  {
   "cell_type": "code",
   "execution_count": 58,
   "metadata": {},
   "outputs": [],
   "source": [
    "dataset = TensorDataset(inputs, labels)\n",
    "dataloader = DataLoader(dataset)"
   ]
  },
  {
   "cell_type": "markdown",
   "metadata": {},
   "source": [
    "## Build and train word embedding"
   ]
  },
  {
   "cell_type": "code",
   "execution_count": 68,
   "metadata": {},
   "outputs": [],
   "source": [
    "seed = 45\n",
    "\n",
    "class WordEmbedding(nn.Module):\n",
    "    def __init__(self):\n",
    "        super().__init__()\n",
    "        torch.manual_seed(seed=seed)\n",
    "\n",
    "        min_val = -0.5\n",
    "        max_val = 0.5\n",
    "\n",
    "        self.input1_w1 = nn.Parameter(Uniform(min_val, max_val).sample())\n",
    "        self.input1_w2 = nn.Parameter(Uniform(min_val, max_val).sample())\n",
    "\n",
    "        self.input2_w1 = nn.Parameter(Uniform(min_val, max_val).sample())\n",
    "        self.input2_w2 = nn.Parameter(Uniform(min_val, max_val).sample())\n",
    "\n",
    "        self.input3_w1 = nn.Parameter(Uniform(min_val, max_val).sample())\n",
    "        self.input3_w2 = nn.Parameter(Uniform(min_val, max_val).sample())\n",
    "\n",
    "        self.input4_w1 = nn.Parameter(Uniform(min_val, max_val).sample())\n",
    "        self.input4_w2 = nn.Parameter(Uniform(min_val, max_val).sample())\n",
    "\n",
    "        self.output1_w1 = nn.Parameter(Uniform(min_val, max_val).sample())\n",
    "        self.output1_w2 = nn.Parameter(Uniform(min_val, max_val).sample())\n",
    "\n",
    "        self.output2_w1 = nn.Parameter(Uniform(min_val, max_val).sample())\n",
    "        self.output2_w2 = nn.Parameter(Uniform(min_val, max_val).sample())\n",
    "\n",
    "        self.output3_w1 = nn.Parameter(Uniform(min_val, max_val).sample())\n",
    "        self.output3_w2 = nn.Parameter(Uniform(min_val, max_val).sample())\n",
    "\n",
    "        self.output4_w1 = nn.Parameter(Uniform(min_val, max_val).sample())\n",
    "        self.output4_w2 = nn.Parameter(Uniform(min_val, max_val).sample())\n",
    "\n",
    "        self.loss = nn.CrossEntropyLoss()\n",
    "        \n",
    "\n",
    "    def forward(self, input):\n",
    "        input = input.squeeze(0)\n",
    "\n",
    "        inputs_to_top_hidden = ((input[0] * self.input1_w1) + \n",
    "                                (input[1] * self.input2_w1) + \n",
    "                                (input[2] * self.input3_w1) + \n",
    "                                (input[3] * self.input4_w1))\n",
    "\n",
    "        inputs_to_bottom_hidden = ((input[0] * self.input1_w2) + \n",
    "                                   (input[1] * self.input2_w2) +\n",
    "                                   (input[2] * self.input3_w2) +\n",
    "                                   (input[3] * self.input4_w2))\n",
    "\n",
    "\n",
    "        output_1 = ((inputs_to_top_hidden * self.output1_w1) +\n",
    "                    (inputs_to_bottom_hidden * self.output1_w2))\n",
    "        \n",
    "        output_2 = ((inputs_to_top_hidden * self.output2_w1) + \n",
    "                    (inputs_to_bottom_hidden * self.output2_w2))\n",
    "\n",
    "        output_3 = ((inputs_to_top_hidden * self.output3_w1) + \n",
    "                    (inputs_to_bottom_hidden * self.output3_w2))\n",
    "\n",
    "        output_4 = ((inputs_to_top_hidden * self.output4_w1) + \n",
    "                    (inputs_to_bottom_hidden * self.output4_w2))\n",
    "\n",
    "        output_presoftmax = torch.stack([output_1, output_2, output_3, output_4])\n",
    "\n",
    "        return output_presoftmax\n",
    "\n",
    "    def training_step(self, batch, batch_idx, optimizer):\n",
    "        input_i, label_i = batch[0], batch[1]\n",
    "        output_i = self(input_i)\n",
    "        loss = self.loss(output_i, label_i[0])\n",
    "\n",
    "        optimizer.zero_grad()\n",
    "        loss.backward()\n",
    "        optimizer.step()\n",
    "        \n",
    "        return loss"
   ]
  },
  {
   "cell_type": "code",
   "execution_count": 69,
   "metadata": {},
   "outputs": [
    {
     "name": "stdout",
     "output_type": "stream",
     "text": [
      "Before optimization, the parameters are:\n",
      "input1_w1 tensor(-0.3100)\n",
      "input1_w2 tensor(0.4600)\n",
      "input2_w1 tensor(0.1800)\n",
      "input2_w2 tensor(0.4000)\n",
      "input3_w1 tensor(-0.4500)\n",
      "input3_w2 tensor(0.0600)\n",
      "input4_w1 tensor(0.2900)\n",
      "input4_w2 tensor(-0.4400)\n",
      "output1_w1 tensor(0.2800)\n",
      "output1_w2 tensor(-0.3500)\n",
      "output2_w1 tensor(-0.4600)\n",
      "output2_w2 tensor(-0.4000)\n",
      "output3_w1 tensor(-0.0800)\n",
      "output3_w2 tensor(-0.2600)\n",
      "output4_w1 tensor(0.3100)\n",
      "output4_w2 tensor(0.0300)\n"
     ]
    }
   ],
   "source": [
    "model = WordEmbedding()\n",
    "print('Before optimization, the parameters are:')\n",
    "for name, param in model.named_parameters():\n",
    "    print(name, torch.round(param.data, decimals=2))"
   ]
  },
  {
   "cell_type": "code",
   "execution_count": 70,
   "metadata": {},
   "outputs": [
    {
     "data": {
      "text/html": [
       "<div>\n",
       "<style scoped>\n",
       "    .dataframe tbody tr th:only-of-type {\n",
       "        vertical-align: middle;\n",
       "    }\n",
       "\n",
       "    .dataframe tbody tr th {\n",
       "        vertical-align: top;\n",
       "    }\n",
       "\n",
       "    .dataframe thead th {\n",
       "        text-align: right;\n",
       "    }\n",
       "</style>\n",
       "<table border=\"1\" class=\"dataframe\">\n",
       "  <thead>\n",
       "    <tr style=\"text-align: right;\">\n",
       "      <th></th>\n",
       "      <th>w1</th>\n",
       "      <th>w2</th>\n",
       "      <th>token</th>\n",
       "      <th>input</th>\n",
       "    </tr>\n",
       "  </thead>\n",
       "  <tbody>\n",
       "    <tr>\n",
       "      <th>0</th>\n",
       "      <td>-0.313052</td>\n",
       "      <td>0.461328</td>\n",
       "      <td>Lewis</td>\n",
       "      <td>input1</td>\n",
       "    </tr>\n",
       "    <tr>\n",
       "      <th>1</th>\n",
       "      <td>0.183449</td>\n",
       "      <td>0.398796</td>\n",
       "      <td>is</td>\n",
       "      <td>input2</td>\n",
       "    </tr>\n",
       "    <tr>\n",
       "      <th>2</th>\n",
       "      <td>-0.449492</td>\n",
       "      <td>0.055456</td>\n",
       "      <td>fast</td>\n",
       "      <td>input3</td>\n",
       "    </tr>\n",
       "    <tr>\n",
       "      <th>3</th>\n",
       "      <td>0.286129</td>\n",
       "      <td>-0.443377</td>\n",
       "      <td>Lando</td>\n",
       "      <td>input4</td>\n",
       "    </tr>\n",
       "  </tbody>\n",
       "</table>\n",
       "</div>"
      ],
      "text/plain": [
       "         w1        w2  token   input\n",
       "0 -0.313052  0.461328  Lewis  input1\n",
       "1  0.183449  0.398796     is  input2\n",
       "2 -0.449492  0.055456   fast  input3\n",
       "3  0.286129 -0.443377  Lando  input4"
      ]
     },
     "execution_count": 70,
     "metadata": {},
     "output_type": "execute_result"
    }
   ],
   "source": [
    "data = {\n",
    "    'w1': [model.input1_w1.item(),\n",
    "            model.input2_w1.item(),\n",
    "            model.input3_w1.item(),\n",
    "            model.input4_w1.item(),\n",
    "           ],\n",
    "\n",
    "    'w2': [model.input1_w2.item(),\n",
    "            model.input2_w2.item(),\n",
    "            model.input3_w2.item(),\n",
    "            model.input4_w2.item(),\n",
    "           ],\n",
    "    'token': ['Lewis', 'is', 'fast', 'Lando'],\n",
    "    'input': ['input1', 'input2', 'input3', 'input4']\n",
    "}\n",
    "\n",
    "df = pd.DataFrame(data)\n",
    "df"
   ]
  },
  {
   "cell_type": "code",
   "execution_count": 71,
   "metadata": {},
   "outputs": [
    {
     "data": {
      "image/png": "[encoded data removed]",
      "text/plain": [
       "<Figure size 640x480 with 1 Axes>"
      ]
     },
     "metadata": {},
     "output_type": "display_data"
    }
   ],
   "source": [
    "sns.scatterplot(data, x='w1', y='w2')\n",
    "\n",
    "for i in range(len(df)):\n",
    "    plt.text(df.w1[i], df.w2[i], df.token[i], ha='left')\n",
    "\n",
    "plt.show()"
   ]
  },
  {
   "cell_type": "code",
   "execution_count": 72,
   "metadata": {},
   "outputs": [
    {
     "name": "stdout",
     "output_type": "stream",
     "text": [
      "Epoch: 1 / 100 | Loss: 5.963597297668457\n",
      "Epoch: 2 / 100 | Loss: 5.257715225219727\n",
      "Epoch: 3 / 100 | Loss: 4.733581066131592\n",
      "Epoch: 4 / 100 | Loss: 4.040631294250488\n",
      "Epoch: 5 / 100 | Loss: 3.12878155708313\n",
      "Epoch: 6 / 100 | Loss: 2.1816723346710205\n",
      "Epoch: 7 / 100 | Loss: 1.4227280616760254\n",
      "Epoch: 8 / 100 | Loss: 0.8760302066802979\n",
      "Epoch: 9 / 100 | Loss: 0.48676586151123047\n",
      "Epoch: 10 / 100 | Loss: 0.24344502389431\n",
      "Epoch: 11 / 100 | Loss: 0.11873573809862137\n",
      "Epoch: 12 / 100 | Loss: 0.061868924647569656\n",
      "Epoch: 13 / 100 | Loss: 0.03609173744916916\n",
      "Epoch: 14 / 100 | Loss: 0.02368883788585663\n",
      "Epoch: 15 / 100 | Loss: 0.017204949632287025\n",
      "Epoch: 16 / 100 | Loss: 0.013520329259335995\n",
      "Epoch: 17 / 100 | Loss: 0.011262073181569576\n",
      "Epoch: 18 / 100 | Loss: 0.009784065186977386\n",
      "Epoch: 19 / 100 | Loss: 0.008758747950196266\n",
      "Epoch: 20 / 100 | Loss: 0.00801016017794609\n",
      "Epoch: 21 / 100 | Loss: 0.007437488064169884\n",
      "Epoch: 22 / 100 | Loss: 0.00698121078312397\n",
      "Epoch: 23 / 100 | Loss: 0.006604247726500034\n",
      "Epoch: 24 / 100 | Loss: 0.006282821763306856\n",
      "Epoch: 25 / 100 | Loss: 0.006001714617013931\n",
      "Epoch: 26 / 100 | Loss: 0.005750818643718958\n",
      "Epoch: 27 / 100 | Loss: 0.0055228788405656815\n",
      "Epoch: 28 / 100 | Loss: 0.005313852336257696\n",
      "Epoch: 29 / 100 | Loss: 0.005119694396853447\n",
      "Epoch: 30 / 100 | Loss: 0.004938265774399042\n",
      "Epoch: 31 / 100 | Loss: 0.004767542239278555\n",
      "Epoch: 32 / 100 | Loss: 0.004606693983078003\n",
      "Epoch: 33 / 100 | Loss: 0.004454292356967926\n",
      "Epoch: 34 / 100 | Loss: 0.00430986238643527\n",
      "Epoch: 35 / 100 | Loss: 0.004172333516180515\n",
      "Epoch: 36 / 100 | Loss: 0.004041824955493212\n",
      "Epoch: 37 / 100 | Loss: 0.003916908521205187\n",
      "Epoch: 38 / 100 | Loss: 0.0037980624474585056\n",
      "Epoch: 39 / 100 | Loss: 0.0036845707800239325\n",
      "Epoch: 40 / 100 | Loss: 0.0035759585443884134\n",
      "Epoch: 41 / 100 | Loss: 0.0034723454155027866\n",
      "Epoch: 42 / 100 | Loss: 0.0033728983253240585\n",
      "Epoch: 43 / 100 | Loss: 0.0032778549939393997\n",
      "Epoch: 44 / 100 | Loss: 0.003186739981174469\n",
      "Epoch: 45 / 100 | Loss: 0.0030990769155323505\n",
      "Epoch: 46 / 100 | Loss: 0.0030154616106301546\n",
      "Epoch: 47 / 100 | Loss: 0.0029349413234740496\n",
      "Epoch: 48 / 100 | Loss: 0.002857635263353586\n",
      "Epoch: 49 / 100 | Loss: 0.0027833059430122375\n",
      "Epoch: 50 / 100 | Loss: 0.00271195312961936\n",
      "Epoch: 51 / 100 | Loss: 0.002643338870257139\n",
      "Epoch: 52 / 100 | Loss: 0.002577105537056923\n",
      "Epoch: 53 / 100 | Loss: 0.0025136112235486507\n",
      "Epoch: 54 / 100 | Loss: 0.0024523790925741196\n",
      "Epoch: 55 / 100 | Loss: 0.002393171191215515\n",
      "Epoch: 56 / 100 | Loss: 0.0023363453801721334\n",
      "Epoch: 57 / 100 | Loss: 0.0022815437987446785\n",
      "Epoch: 58 / 100 | Loss: 0.0022284090518951416\n",
      "Epoch: 59 / 100 | Loss: 0.0021775374189019203\n",
      "Epoch: 60 / 100 | Loss: 0.002127856481820345\n",
      "Epoch: 61 / 100 | Loss: 0.0020803194493055344\n",
      "Epoch: 62 / 100 | Loss: 0.0020343305077403784\n",
      "Epoch: 63 / 100 | Loss: 0.0019896519370377064\n",
      "Epoch: 64 / 100 | Loss: 0.0019464022479951382\n",
      "Epoch: 65 / 100 | Loss: 0.001904820092022419\n",
      "Epoch: 66 / 100 | Loss: 0.0018646675162017345\n",
      "Epoch: 67 / 100 | Loss: 0.0018253482412546873\n",
      "Epoch: 68 / 100 | Loss: 0.0017876969650387764\n",
      "Epoch: 69 / 100 | Loss: 0.0017509981989860535\n",
      "Epoch: 70 / 100 | Loss: 0.0017153717344626784\n",
      "Epoch: 71 / 100 | Loss: 0.0016809363150969148\n",
      "Epoch: 72 / 100 | Loss: 0.0016475729644298553\n",
      "Epoch: 73 / 100 | Loss: 0.001615162706002593\n",
      "Epoch: 74 / 100 | Loss: 0.0015837053069844842\n",
      "Epoch: 75 / 100 | Loss: 0.0015533200930804014\n",
      "Epoch: 76 / 100 | Loss: 0.0015234111342579126\n",
      "Epoch: 77 / 100 | Loss: 0.0014946938026696444\n",
      "Epoch: 78 / 100 | Loss: 0.0014666910283267498\n",
      "Epoch: 79 / 100 | Loss: 0.0014396413462236524\n",
      "Epoch: 80 / 100 | Loss: 0.0014131872449070215\n",
      "Epoch: 81 / 100 | Loss: 0.0013876863522455096\n",
      "Epoch: 82 / 100 | Loss: 0.0013625427382066846\n",
      "Epoch: 83 / 100 | Loss: 0.001338113914243877\n",
      "Epoch: 84 / 100 | Loss: 0.0013143999967724085\n",
      "Epoch: 85 / 100 | Loss: 0.0012915200786665082\n",
      "Epoch: 86 / 100 | Loss: 0.0012692358577623963\n",
      "Epoch: 87 / 100 | Loss: 0.0012471897061914206\n",
      "Epoch: 88 / 100 | Loss: 0.0012258586939424276\n",
      "Epoch: 89 / 100 | Loss: 0.0012051232624799013\n",
      "Epoch: 90 / 100 | Loss: 0.0011852218303829432\n",
      "Epoch: 91 / 100 | Loss: 0.001165439491160214\n",
      "Epoch: 92 / 100 | Loss: 0.0011461337562650442\n",
      "Epoch: 93 / 100 | Loss: 0.0011275430442765355\n",
      "Epoch: 94 / 100 | Loss: 0.0011091904016211629\n",
      "Epoch: 95 / 100 | Loss: 0.0010913144797086716\n",
      "Epoch: 96 / 100 | Loss: 0.0010739151621237397\n",
      "Epoch: 97 / 100 | Loss: 0.0010569924488663673\n",
      "Epoch: 98 / 100 | Loss: 0.0010406655492261052\n",
      "Epoch: 99 / 100 | Loss: 0.0010243385331705213\n",
      "Epoch: 100 / 100 | Loss: 0.0010086074471473694\n"
     ]
    }
   ],
   "source": [
    "epochs = 100\n",
    "optimizer = Adam(model.parameters(), lr=0.1)\n",
    "\n",
    "model.train()\n",
    "\n",
    "for epoch in range(epochs):\n",
    "    total_loss = 0\n",
    "    for batch_idx, batch in enumerate(dataloader):\n",
    "        loss = model.training_step(batch, batch_idx, optimizer)\n",
    "        total_loss += loss\n",
    "\n",
    "    print(f'Epoch: {epoch + 1} / {epochs} | Loss: {total_loss}')\n"
   ]
  },
  {
   "cell_type": "code",
   "execution_count": 73,
   "metadata": {},
   "outputs": [
    {
     "name": "stdout",
     "output_type": "stream",
     "text": [
      "After optimization, the parameters are:\n",
      "input1_w1 tensor(-2.2000, grad_fn=<RoundBackward1>)\n",
      "input1_w2 tensor(-1.2600, grad_fn=<RoundBackward1>)\n",
      "input2_w1 tensor(2.5000, grad_fn=<RoundBackward1>)\n",
      "input2_w2 tensor(1.5600, grad_fn=<RoundBackward1>)\n",
      "input3_w1 tensor(-1.1500, grad_fn=<RoundBackward1>)\n",
      "input3_w2 tensor(3.1200, grad_fn=<RoundBackward1>)\n",
      "input4_w1 tensor(-1.8300, grad_fn=<RoundBackward1>)\n",
      "input4_w2 tensor(-1.4400, grad_fn=<RoundBackward1>)\n",
      "output1_w1 tensor(1.8100, grad_fn=<RoundBackward1>)\n",
      "output1_w2 tensor(-2.2000, grad_fn=<RoundBackward1>)\n",
      "output2_w1 tensor(-2.6200, grad_fn=<RoundBackward1>)\n",
      "output2_w2 tensor(-2.4200, grad_fn=<RoundBackward1>)\n",
      "output3_w1 tensor(3.8500, grad_fn=<RoundBackward1>)\n",
      "output3_w2 tensor(0.0800, grad_fn=<RoundBackward1>)\n",
      "output4_w1 tensor(-0.4300, grad_fn=<RoundBackward1>)\n",
      "output4_w2 tensor(1.3500, grad_fn=<RoundBackward1>)\n"
     ]
    }
   ],
   "source": [
    "print(\"After optimization, the parameters are:\")\n",
    "for name, param in model.named_parameters():\n",
    "    print(name, torch.round(param, decimals=2))"
   ]
  },
  {
   "cell_type": "code",
   "execution_count": 74,
   "metadata": {},
   "outputs": [
    {
     "data": {
      "text/html": [
       "<div>\n",
       "<style scoped>\n",
       "    .dataframe tbody tr th:only-of-type {\n",
       "        vertical-align: middle;\n",
       "    }\n",
       "\n",
       "    .dataframe tbody tr th {\n",
       "        vertical-align: top;\n",
       "    }\n",
       "\n",
       "    .dataframe thead th {\n",
       "        text-align: right;\n",
       "    }\n",
       "</style>\n",
       "<table border=\"1\" class=\"dataframe\">\n",
       "  <thead>\n",
       "    <tr style=\"text-align: right;\">\n",
       "      <th></th>\n",
       "      <th>w1</th>\n",
       "      <th>w2</th>\n",
       "      <th>token</th>\n",
       "      <th>input</th>\n",
       "    </tr>\n",
       "  </thead>\n",
       "  <tbody>\n",
       "    <tr>\n",
       "      <th>0</th>\n",
       "      <td>-2.195835</td>\n",
       "      <td>-1.259021</td>\n",
       "      <td>Lewis</td>\n",
       "      <td>input1</td>\n",
       "    </tr>\n",
       "    <tr>\n",
       "      <th>1</th>\n",
       "      <td>2.497649</td>\n",
       "      <td>1.559809</td>\n",
       "      <td>is</td>\n",
       "      <td>input2</td>\n",
       "    </tr>\n",
       "    <tr>\n",
       "      <th>2</th>\n",
       "      <td>-1.145749</td>\n",
       "      <td>3.118115</td>\n",
       "      <td>fast</td>\n",
       "      <td>input3</td>\n",
       "    </tr>\n",
       "    <tr>\n",
       "      <th>3</th>\n",
       "      <td>-1.827839</td>\n",
       "      <td>-1.435772</td>\n",
       "      <td>Lando</td>\n",
       "      <td>input4</td>\n",
       "    </tr>\n",
       "  </tbody>\n",
       "</table>\n",
       "</div>"
      ],
      "text/plain": [
       "         w1        w2  token   input\n",
       "0 -2.195835 -1.259021  Lewis  input1\n",
       "1  2.497649  1.559809     is  input2\n",
       "2 -1.145749  3.118115   fast  input3\n",
       "3 -1.827839 -1.435772  Lando  input4"
      ]
     },
     "execution_count": 74,
     "metadata": {},
     "output_type": "execute_result"
    }
   ],
   "source": [
    "data = {\n",
    "    'w1': [model.input1_w1.item(),\n",
    "            model.input2_w1.item(),\n",
    "            model.input3_w1.item(),\n",
    "            model.input4_w1.item(),\n",
    "           ],\n",
    "\n",
    "    'w2': [model.input1_w2.item(),\n",
    "            model.input2_w2.item(),\n",
    "            model.input3_w2.item(),\n",
    "            model.input4_w2.item(),\n",
    "           ],\n",
    "    'token': ['Lewis', 'is', 'fast', 'Lando'],\n",
    "    'input': ['input1', 'input2', 'input3', 'input4']\n",
    "}\n",
    "\n",
    "df = pd.DataFrame(data)\n",
    "df"
   ]
  },
  {
   "cell_type": "code",
   "execution_count": 75,
   "metadata": {},
   "outputs": [
    {
     "data": {
      "image/png": "[encoded data removed]",
      "text/plain": [
       "<Figure size 640x480 with 1 Axes>"
      ]
     },
     "metadata": {},
     "output_type": "display_data"
    }
   ],
   "source": [
    "sns.scatterplot(df, x='w1', y='w2')\n",
    "\n",
    "for i in range(len(data)):\n",
    "    plt.text(df.w1[i], df.w2[i], df.token[i])"
   ]
  },
  {
   "cell_type": "code",
   "execution_count": 76,
   "metadata": {},
   "outputs": [
    {
     "name": "stdout",
     "output_type": "stream",
     "text": [
      "tensor([0., 1., 0., 0.], grad_fn=<RoundBackward1>)\n",
      "tensor([0., 0., 1., 0.], grad_fn=<RoundBackward1>)\n",
      "tensor([0., 0., 0., 1.], grad_fn=<RoundBackward1>)\n",
      "tensor([0., 1., 0., 0.], grad_fn=<RoundBackward1>)\n"
     ]
    }
   ],
   "source": [
    "softmax = nn.Softmax(dim=0)\n",
    "\n",
    "print(torch.round(softmax(model(torch.tensor([[1., 0., 0., 0.]]))), decimals=2))\n",
    "print(torch.round(softmax(model(torch.tensor([[0., 1., 0., 0.]]))), decimals=2))\n",
    "print(torch.round(softmax(model(torch.tensor([[0., 0., 1., 0.]]))), decimals=2))\n",
    "print(torch.round(softmax(model(torch.tensor([[0., 0., 0., 1.]]))), decimals=2))"
   ]
  },
  {
   "cell_type": "code",
   "execution_count": null,
   "metadata": {},
   "outputs": [],
   "source": []
  }
 ],
 "metadata": {
  "kernelspec": {
   "display_name": "venv",
   "language": "python",
   "name": "python3"
  },
  "language_info": {
   "codemirror_mode": {
    "name": "ipython",
    "version": 3
   },
   "file_extension": ".py",
   "mimetype": "text/x-python",
   "name": "python",
   "nbconvert_exporter": "python",
   "pygments_lexer": "ipython3",
   "version": "3.10.12"
  }
 },
 "nbformat": 4,
 "nbformat_minor": 2
}
