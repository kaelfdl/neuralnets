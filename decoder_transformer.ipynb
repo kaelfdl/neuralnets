{
 "cells": [
  {
   "cell_type": "markdown",
   "metadata": {},
   "source": [
    "# Decoder Transformers with PyTorch"
   ]
  },
  {
   "cell_type": "code",
   "execution_count": 8,
   "metadata": {},
   "outputs": [],
   "source": [
    "import torch\n",
    "import torch.nn as nn\n",
    "import torch.nn.functional as F\n",
    "from torch.optim import Adam\n",
    "from torch.utils.data import TensorDataset, DataLoader"
   ]
  },
  {
   "cell_type": "code",
   "execution_count": 5,
   "metadata": {},
   "outputs": [],
   "source": [
    "token_to_id = {\n",
    "    'what': 0,\n",
    "    'is': 1,\n",
    "    'kael': 2,\n",
    "    'awesome': 3,\n",
    "    '<EOS>': 4,\n",
    "}\n",
    "\n",
    "id_to_token = dict(map(reversed, token_to_id.items()))\n",
    "\n",
    "inputs = torch.tensor([[token_to_id['what'],\n",
    "                        token_to_id['is'],\n",
    "                        token_to_id['kael'],\n",
    "                        token_to_id['<EOS>'],\n",
    "                        token_to_id['awesome']],\n",
    "                        \n",
    "                        [token_to_id['kael'],\n",
    "                         token_to_id['is'],\n",
    "                         token_to_id['what'],\n",
    "                         token_to_id['<EOS>'],\n",
    "                         token_to_id['awesome']]])\n",
    "\n",
    "labels = torch.tensor([[token_to_id['is'],\n",
    "                        token_to_id['kael'],\n",
    "                        token_to_id['<EOS>'],\n",
    "                        token_to_id['awesome'],\n",
    "                        token_to_id['<EOS>']],\n",
    "                        \n",
    "                        [token_to_id['is'],\n",
    "                         token_to_id['what'],\n",
    "                         token_to_id['<EOS>'],\n",
    "                         token_to_id['awesome'],\n",
    "                         token_to_id['<EOS>']]])\n",
    "\n",
    "dataset = TensorDataset(inputs, labels)\n",
    "dataloader = DataLoader(dataset)"
   ]
  },
  {
   "cell_type": "code",
   "execution_count": 9,
   "metadata": {},
   "outputs": [],
   "source": [
    "class PositionEncoding(nn.Module):\n",
    "    def __init__(self, d_model=2, max_len=6):\n",
    "        super().__init__()\n",
    "\n",
    "        pe = torch.zeros(max_len, d_model)\n",
    "\n",
    "        position = torch.arange(start=0, end=max_len, step=1).float().unsqueeze(1)\n",
    "\n",
    "        embedding_index = torch.arange(start=0, end=d_model, step=2).float()\n",
    "\n",
    "        div_term = 1 / torch.tensor(10000.)**(embedding_index / d_model)\n",
    "\n",
    "        pe[:, 0::2] = torch.sin(position * div_term)\n",
    "        pe[:, 1::2] = torch.cos(position * div_term)\n",
    "\n",
    "        self.register_buffer('pe', pe)\n",
    "    \n",
    "    def forward(self, word_embeddings):\n",
    "        return word_embeddings + self.pe[:word_embeddings.size(0)]"
   ]
  },
  {
   "cell_type": "code",
   "execution_count": 10,
   "metadata": {},
   "outputs": [],
   "source": [
    "class Attention(nn.Module):\n",
    "    def __init__(self, d_model=2):\n",
    "        super().__init__()\n",
    "\n",
    "        self.d_model = d_model\n",
    "\n",
    "        self.W_q = nn.Linear(in_features=d_model, out_features=d_model, bias=False)\n",
    "        self.W_k = nn.Linear(in_features=d_model, out_features=d_model, bias=False)\n",
    "        self.W_v = nn.Linear(in_features=d_model, out_features=d_model, bias=False)\n",
    "\n",
    "        self.row_dim = 0\n",
    "        self.col_dim = 1\n",
    "\n",
    "\n",
    "    def forward(self, encodings_for_q, encodings_for_k, encodings_for_v, mask=None):\n",
    "\n",
    "        q = self.W_q(encodings_for_q)\n",
    "        k = self.W_k(encodings_for_k)\n",
    "        v = self.W_v(encodings_for_v)\n",
    "\n",
    "        # ((q * k^T) / sqrt(d_model)) * v\n",
    "\n",
    "        sims = torch.matmul(q, k.transpose(dim0=self.row_dim, dim1=self.col_dim))\n",
    "\n",
    "        scaled_sims = sims / torch.tensor(k.size(self.col_dim)**0.5)\n",
    "\n",
    "        if mask is not None:\n",
    "            scaled_sims = scaled_sims.masked_fill(mask=mask, value=1e-9)\n",
    "\n",
    "        attention_percents = F.softmax(scaled_sims, dim=self.col_dim)\n",
    "\n",
    "        attention_scores = torch.matmul(attention_percents, v)\n",
    "\n",
    "        return attention_scores"
   ]
  },
  {
   "cell_type": "code",
   "execution_count": 19,
   "metadata": {},
   "outputs": [],
   "source": [
    "seed = 45\n",
    "class DecoderTransformer(nn.Module):\n",
    "    def __init__(self, num_tokens=4, d_model=2, max_len=6):\n",
    "        super().__init__()\n",
    "\n",
    "        torch.manual_seed(seed=seed)\n",
    "\n",
    "        self.we = nn.Embedding(num_embeddings=num_tokens, embedding_dim=d_model)\n",
    "\n",
    "        self.pe = PositionEncoding(d_model=d_model, max_len=max_len)\n",
    "\n",
    "        self.self_attention = Attention(d_model=d_model)\n",
    "\n",
    "        self.fc_layer = nn.Linear(in_features=d_model, out_features=num_tokens)\n",
    "\n",
    "        self.loss = nn.CrossEntropyLoss()\n",
    "\n",
    "    def forward(self, token_ids):\n",
    "        word_embeddings = self.we(token_ids)\n",
    "        position_encoded = self.pe(word_embeddings)\n",
    "\n",
    "\n",
    "        mask = torch.tril(torch.ones((token_ids.size(0), token_ids.size(0))))\n",
    "\n",
    "        mask = mask == 0\n",
    "\n",
    "        self_attention_values = self.self_attention(position_encoded, position_encoded, position_encoded, mask=mask)\n",
    "\n",
    "        residual_connection_values = position_encoded + self_attention_values\n",
    "\n",
    "        fc_layer_output = self.fc_layer(residual_connection_values)\n",
    "\n",
    "        return fc_layer_output\n",
    "    \n",
    "    def training_step(self, batch, batch_idx, optimizer):\n",
    "        input_tokens, labels = batch\n",
    "        output = self(input_tokens[0])\n",
    "        loss = self.loss(output, labels[0])\n",
    "\n",
    "        optimizer.zero_grad()\n",
    "        loss.backward()\n",
    "        optimizer.step()\n",
    "\n",
    "        return loss"
   ]
  },
  {
   "cell_type": "code",
   "execution_count": 35,
   "metadata": {},
   "outputs": [],
   "source": [
    "model = DecoderTransformer(num_tokens=len(token_to_id), d_model=2, max_len=6)\n",
    "\n",
    "model_input = torch.tensor([token_to_id['what'],\n",
    "                            token_to_id['is'],\n",
    "                            token_to_id['kael'],\n",
    "                            token_to_id['<EOS>']])\n",
    "\n",
    "def predict(model_input):\n",
    "    \n",
    "    model.eval()\n",
    "\n",
    "    input_length = model_input.size(0)\n",
    "\n",
    "    predictions = model(model_input)\n",
    "\n",
    "    predicted_id = torch.tensor([torch.argmax(predictions[-1, :])])\n",
    "\n",
    "\n",
    "    predicted_ids = predicted_id\n",
    "\n",
    "    max_length = 6\n",
    "\n",
    "    for i in range(input_length, max_length):\n",
    "        if(predicted_id == torch.tensor([token_to_id['<EOS>']])):\n",
    "            break\n",
    "\n",
    "        model_input = torch.cat((model_input, predicted_id))\n",
    "\n",
    "        predictions = model(model_input)\n",
    "        predicted_id = torch.tensor([torch.argmax(predictions[-1,:])])\n",
    "        predicted_ids = torch.cat((predicted_ids, predicted_id))\n",
    "\n",
    "\n",
    "    for id in predicted_ids:\n",
    "        print(f'\\t {id_to_token[id.item()]}')"
   ]
  },
  {
   "cell_type": "code",
   "execution_count": 36,
   "metadata": {},
   "outputs": [
    {
     "name": "stdout",
     "output_type": "stream",
     "text": [
      "Predicted tokens before training:\n",
      "\t awesome\n",
      "\t awesome\n",
      "\t what\n"
     ]
    }
   ],
   "source": [
    "print('Predicted tokens before training:')\n",
    "predict(model_input)"
   ]
  },
  {
   "cell_type": "code",
   "execution_count": 37,
   "metadata": {},
   "outputs": [
    {
     "name": "stdout",
     "output_type": "stream",
     "text": [
      "Epoch: 1 / 10 | Loss: 3.431887149810791\n",
      "Epoch: 2 / 10 | Loss: 2.6273903846740723\n",
      "Epoch: 3 / 10 | Loss: 2.1565098762512207\n",
      "Epoch: 4 / 10 | Loss: 1.8088533878326416\n",
      "Epoch: 5 / 10 | Loss: 1.4911552667617798\n",
      "Epoch: 6 / 10 | Loss: 1.175260066986084\n",
      "Epoch: 7 / 10 | Loss: 0.9104108810424805\n",
      "Epoch: 8 / 10 | Loss: 0.722602128982544\n",
      "Epoch: 9 / 10 | Loss: 0.5688287019729614\n",
      "Epoch: 10 / 10 | Loss: 0.44615641236305237\n"
     ]
    }
   ],
   "source": [
    "epochs = 10\n",
    "\n",
    "optimizer = Adam(model.parameters(), lr=0.1)\n",
    "\n",
    "model.train()\n",
    "\n",
    "for epoch in range(epochs):\n",
    "    total_loss = 0\n",
    "    for batch_idx, batch in enumerate(dataloader):\n",
    "        loss = model.training_step(batch, batch_idx, optimizer)\n",
    "        total_loss += loss\n",
    "\n",
    "    print(f'Epoch: {epoch + 1} / {epochs} | Loss: {total_loss}')\n",
    "        "
   ]
  },
  {
   "cell_type": "code",
   "execution_count": 39,
   "metadata": {},
   "outputs": [
    {
     "name": "stdout",
     "output_type": "stream",
     "text": [
      "Predicted tokens after training:\n",
      "\t awesome\n",
      "\t <EOS>\n"
     ]
    }
   ],
   "source": [
    "print('Predicted tokens after training:')\n",
    "predict(model_input)"
   ]
  },
  {
   "cell_type": "code",
   "execution_count": 40,
   "metadata": {},
   "outputs": [
    {
     "name": "stdout",
     "output_type": "stream",
     "text": [
      "Predicted tokens after training:\n",
      "\t awesome\n",
      "\t <EOS>\n"
     ]
    }
   ],
   "source": [
    "model_input = torch.tensor([token_to_id['kael'],\n",
    "                            token_to_id['is'],\n",
    "                            token_to_id['what'],\n",
    "                            token_to_id['<EOS>']])\n",
    "\n",
    "print('Predicted tokens after training:')\n",
    "predict(model_input)"
   ]
  },
  {
   "cell_type": "code",
   "execution_count": null,
   "metadata": {},
   "outputs": [],
   "source": []
  }
 ],
 "metadata": {
  "kernelspec": {
   "display_name": "venv",
   "language": "python",
   "name": "python3"
  },
  "language_info": {
   "codemirror_mode": {
    "name": "ipython",
    "version": 3
   },
   "file_extension": ".py",
   "mimetype": "text/x-python",
   "name": "python",
   "nbconvert_exporter": "python",
   "pygments_lexer": "ipython3",
   "version": "3.10.12"
  }
 },
 "nbformat": 4,
 "nbformat_minor": 2
}
